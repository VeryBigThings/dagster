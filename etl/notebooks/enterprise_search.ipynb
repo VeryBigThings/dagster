{
 "cells": [
  {
   "cell_type": "code",
   "execution_count": null,
   "metadata": {},
   "outputs": [],
   "source": [
    "import os\n",
    "import pandas as pd\n",
    "import matplotlib.pyplot as plt"
   ]
  },
  {
   "cell_type": "code",
   "execution_count": null,
   "metadata": {},
   "outputs": [],
   "source": [
    "conn_str = os.environ[\"DB_WAREHOUSE_URI\"]\n",
    "read_sql_query = lambda sql: pd.read_sql_query(sql, conn_str)"
   ]
  },
  {
   "cell_type": "code",
   "execution_count": null,
   "metadata": {},
   "outputs": [],
   "source": [
    "def assert_df_column_value(df, column_name, value):\n",
    "    assert len(df) == 1\n",
    "    assert df[column_name].iloc[0] == value\n",
    "    print(f\"OK: {column_name} == {value}\")"
   ]
  },
  {
   "cell_type": "markdown",
   "metadata": {},
   "source": [
    "# Scheduled loads"
   ]
  },
  {
   "cell_type": "markdown",
   "metadata": {},
   "source": [
    "### All scheduled loads"
   ]
  },
  {
   "cell_type": "code",
   "execution_count": null,
   "metadata": {},
   "outputs": [],
   "source": [
    "query = \"\"\"\n",
    "SELECT *\n",
    "FROM \"factScheduledLoads\"\n",
    "\"\"\"\n",
    "read_sql_query(query)"
   ]
  },
  {
   "cell_type": "markdown",
   "metadata": {},
   "source": [
    "### Q 100: How many loads are scheduled for PO # x?\n",
    "\n",
    "#### Example: How many loads are scheduled for PO 691306/13121?"
   ]
  },
  {
   "cell_type": "code",
   "execution_count": null,
   "metadata": {},
   "outputs": [],
   "source": [
    "PONumber = \"691306/13121\"  # Update this to the PONumber you want to query\n",
    "\n",
    "query = \"\"\"\n",
    "SELECT \"PONumber\", SUM(\"LoadPieces\") AS \"LoadPieces\", SUM(\"LoadTons\") AS \"LoadTons\"\n",
    "FROM \"factScheduledLoads\"\n",
    "WHERE \"PONumber\" = '{PONumber}'\n",
    "GROUP BY \"PONumber\"\n",
    "\"\"\".format(PONumber=PONumber)\n",
    "read_sql_query(query)"
   ]
  },
  {
   "cell_type": "markdown",
   "metadata": {},
   "source": [
    "### Q 101: How many loads are scheduled for customer code x?\n",
    "\n",
    "#### Example: How many loads are scheduled for Customer Code 282304?"
   ]
  },
  {
   "cell_type": "code",
   "execution_count": null,
   "metadata": {},
   "outputs": [],
   "source": [
    "CustomerCode = \"282326\"  # Update this to the PONumber you want to query\n",
    "\n",
    "query = \"\"\"\n",
    "SELECT \"CustomerCode\", SUM(\"LoadPieces\") AS \"LoadPieces\", SUM(\"LoadTons\") AS \"LoadTons\"\n",
    "FROM \"factScheduledLoads\"\n",
    "WHERE \"CustomerCode\" = '{CustomerCode}'\n",
    "GROUP BY \"CustomerCode\"\n",
    "\"\"\".format(CustomerCode=CustomerCode)\n",
    "read_sql_query(query)"
   ]
  },
  {
   "cell_type": "markdown",
   "metadata": {},
   "source": [
    "### Q 25: Show the loads scheduled, by referencing pick up number with PO#"
   ]
  },
  {
   "cell_type": "code",
   "execution_count": null,
   "metadata": {},
   "outputs": [],
   "source": [
    "query = \"\"\"\n",
    "SELECT \"PONumber\", \"ShippingNumber\", \"LoadPieces\", \"LoadTons\"\n",
    "FROM \"factScheduledLoads\"\n",
    "\"\"\"\n",
    "read_sql_query(query)"
   ]
  },
  {
   "cell_type": "markdown",
   "metadata": {},
   "source": [
    "### Q 26: Show the loads scheduled, by customer code"
   ]
  },
  {
   "cell_type": "code",
   "execution_count": null,
   "metadata": {},
   "outputs": [],
   "source": [
    "query = \"\"\"\n",
    "SELECT \"CustomerCode\", SUM(\"LoadPieces\") AS \"TotalPieces\", SUM(\"LoadTons\") AS \"TotalTons\"\n",
    "FROM \"factScheduledLoads\"\n",
    "GROUP BY \"CustomerCode\"\n",
    "\"\"\"\n",
    "read_sql_query(query)"
   ]
  },
  {
   "cell_type": "markdown",
   "metadata": {},
   "source": [
    "### Q 94: Show me the PO's with open pick up/shipper #'s"
   ]
  },
  {
   "cell_type": "code",
   "execution_count": null,
   "metadata": {},
   "outputs": [],
   "source": [
    "query = \"\"\"\n",
    "SELECT \"PONumber\", SUM(\"LoadPieces\") AS \"TotalPieces\", SUM(\"LoadTons\") AS \"TotalTons\"\n",
    "FROM \"factScheduledLoads\"\n",
    "GROUP BY \"PONumber\"\n",
    "\"\"\"\n",
    "read_sql_query(query)"
   ]
  },
  {
   "cell_type": "markdown",
   "metadata": {},
   "source": [
    "### Q 98: Show me the PO's with open pick up/shipper #'s for these customer codes"
   ]
  },
  {
   "cell_type": "code",
   "execution_count": null,
   "metadata": {},
   "outputs": [],
   "source": [
    "customer_codes = ['282326', '282304']\n",
    "query = \"\"\"\n",
    "SELECT \"PONumber\", \"CustomerCode\", SUM(\"LoadPieces\") AS \"TotalPieces\", SUM(\"LoadTons\") AS \"TotalTons\"\n",
    "FROM \"factScheduledLoads\"\n",
    "WHERE \"CustomerCode\" IN ({customer_codes})\n",
    "GROUP BY \"PONumber\", \"CustomerCode\"\n",
    "\"\"\".format(customer_codes=', '.join([f\"'{code}'\" for code in customer_codes]))\n",
    "read_sql_query(query)"
   ]
  },
  {
   "cell_type": "markdown",
   "metadata": {},
   "source": [
    "# Old inventory (non-shipped rolls)"
   ]
  },
  {
   "cell_type": "markdown",
   "metadata": {},
   "source": [
    "### Q 22: Show the rolls, by customer code, that are 6 months to 1 year"
   ]
  },
  {
   "cell_type": "code",
   "execution_count": null,
   "metadata": {},
   "outputs": [],
   "source": [
    "start = (pd.Timestamp.now() - pd.DateOffset(months=12)).date()\n",
    "end = (pd.Timestamp.now() - pd.DateOffset(months=6)).date()\n",
    "\n",
    "query = \"\"\"\n",
    "SELECT *\n",
    "FROM \"factInventoryNotShipped\"\n",
    "WHERE \"DateEntered\" BETWEEN '{start}' AND '{end}'\n",
    "ORDER BY \"DateEntered\"\n",
    "\"\"\".format(start=start, end=end)\n",
    "read_sql_query(query).head(10)"
   ]
  },
  {
   "cell_type": "markdown",
   "metadata": {},
   "source": [
    "### Q 23: Show the rolls, by customer code, that are 1-2 years old"
   ]
  },
  {
   "cell_type": "code",
   "execution_count": null,
   "metadata": {},
   "outputs": [],
   "source": [
    "start = (pd.Timestamp.now() - pd.DateOffset(months=24)).date()\n",
    "end = (pd.Timestamp.now() - pd.DateOffset(months=12)).date()\n",
    "\n",
    "query = \"\"\"\n",
    "SELECT *\n",
    "FROM \"factInventoryNotShipped\"\n",
    "WHERE \"DateEntered\" BETWEEN '{start}' AND '{end}'\n",
    "ORDER BY \"DateEntered\"\n",
    "\"\"\".format(start=start, end=end)\n",
    "read_sql_query(query).head(10)"
   ]
  },
  {
   "cell_type": "markdown",
   "metadata": {},
   "source": [
    "### Q 24: show the rolls, by customer code, that are 2 years and older"
   ]
  },
  {
   "cell_type": "code",
   "execution_count": null,
   "metadata": {},
   "outputs": [],
   "source": [
    "start = (pd.Timestamp.now() - pd.DateOffset(months=24)).date()\n",
    "\n",
    "query = \"\"\"\n",
    "SELECT *\n",
    "FROM \"factInventoryNotShipped\"\n",
    "WHERE \"DateEntered\" <= '{start}'\n",
    "ORDER BY \"DateEntered\"\n",
    "\"\"\".format(start=start)\n",
    "read_sql_query(query).head(10)"
   ]
  },
  {
   "cell_type": "markdown",
   "metadata": {},
   "source": [
    "### Q 102: Inventory by age by customer"
   ]
  },
  {
   "cell_type": "code",
   "execution_count": null,
   "metadata": {},
   "outputs": [],
   "source": [
    "customer = \"Trebor Inventory\"\n",
    "\n",
    "query = \"\"\"\n",
    "SELECT *\n",
    "FROM \"factInventoryNotShipped\"\n",
    "WHERE \"Customer\" = '{customer}'\n",
    "ORDER BY \"DateEntered\"\n",
    "\"\"\".format(customer=customer)\n",
    "read_sql_query(query).head(10)"
   ]
  },
  {
   "cell_type": "markdown",
   "metadata": {},
   "source": [
    "# Purchase order (PO) history"
   ]
  },
  {
   "cell_type": "markdown",
   "metadata": {},
   "source": [
    "### Q 90: What are the PO's for the last 6 months for these customer codes?\n",
    "\n",
    "#### Example: What are the PO's for the last 6 months for customer codes 930010, 282304?"
   ]
  },
  {
   "cell_type": "code",
   "execution_count": null,
   "metadata": {},
   "outputs": [],
   "source": [
    "since = (pd.Timestamp.now() - pd.DateOffset(months=6)).date()\n",
    "customer_codes = ['930010', '282304']\n",
    "\n",
    "query = \"\"\"\n",
    "SELECT \"PONumber\", \"PODate\", \"CustomerCode\", \"Customer\", \"TotalTons\" as \"OrderedTons\", SUM(\"LoadTons\") AS \"ProducedTons\", SUM(\"LoadPieces\") AS \"ProducedPieces\"\n",
    "FROM \"factPOProduction\"\n",
    "WHERE \"PODate\" >= '{since}'\n",
    "AND \"CustomerCode\" IN ({customer_codes})\n",
    "GROUP BY \"PONumber\", \"PODate\", \"CustomerCode\", \"Customer\", \"TotalTons\"\n",
    "\"\"\".format(since=since, customer_codes=', '.join([f\"'{code}'\" for code in customer_codes]))\n",
    "read_sql_query(query)\n"
   ]
  },
  {
   "cell_type": "markdown",
   "metadata": {},
   "source": [
    "### Q 99: Show me the most recent PO for customer code x\n",
    "\n",
    "#### Example: Show me the most recent PO for customer code 282304"
   ]
  },
  {
   "cell_type": "code",
   "execution_count": null,
   "metadata": {},
   "outputs": [],
   "source": [
    "customer_codes = ['282304']\n",
    "\n",
    "query = \"\"\"\n",
    "SELECT \"PONumber\", \"PODate\", \"CustomerCode\", \"Customer\", \"TotalTons\" as \"OrderedTons\", SUM(\"LoadTons\") AS \"ProducedTons\", SUM(\"LoadPieces\") AS \"ProducedPieces\"\n",
    "FROM \"factPOProduction\"\n",
    "WHERE \"CustomerCode\" IN ({customer_codes})\n",
    "GROUP BY \"PONumber\", \"PODate\", \"CustomerCode\", \"Customer\", \"TotalTons\"\n",
    "ORDER BY \"PODate\" DESC\n",
    "\"\"\".format(customer_codes=', '.join([f\"'{code}'\" for code in customer_codes]))\n",
    "read_sql_query(query)"
   ]
  },
  {
   "cell_type": "markdown",
   "metadata": {},
   "source": [
    "### Q 91: Show me the order history for customer X or customer code for the past year.\n",
    "\n",
    "#### Example: Show me the order history for customer 'American Paper Converting' for the past year."
   ]
  },
  {
   "cell_type": "code",
   "execution_count": null,
   "metadata": {},
   "outputs": [],
   "source": [
    "customers = ['American Paper Converting']\n",
    "since = (pd.Timestamp.now() - pd.DateOffset(months=12)).date()\n",
    "\n",
    "query = \"\"\"\n",
    "SELECT \"PONumber\", \"PODate\", \"CustomerCode\", \"Customer\", \"TotalTons\" as \"OrderedTons\", SUM(\"LoadTons\") AS \"ProducedTons\", SUM(\"LoadPieces\") AS \"ProducedPieces\"\n",
    "FROM \"factPOProduction\"\n",
    "WHERE \"Customer\" IN ({customers})\n",
    "AND \"ShippingDate\" >= '{since}'\n",
    "GROUP BY \"PONumber\", \"PODate\", \"CustomerCode\", \"Customer\", \"TotalTons\"\n",
    "ORDER BY \"PODate\" ASC\n",
    "\"\"\".format(customers=', '.join([f\"'{customer}'\" for customer in customers]), since=since)\n",
    "df = read_sql_query(query)\n",
    "\n",
    "display(df)\n",
    "\n",
    "df['PODate'] = pd.to_datetime(df['PODate']).dt.date\n",
    "\n",
    "df.set_index('PODate')[['OrderedTons', 'ProducedTons']].plot(kind='bar', figsize=(28, 5))\n",
    "plt.title('Ordered vs Produced Tons')\n",
    "plt.ylabel('Tons')\n",
    "plt.xticks(rotation=45, ha='right')\n",
    "plt.show()"
   ]
  },
  {
   "cell_type": "markdown",
   "metadata": {},
   "source": [
    "#### Example: Show me the order history for customer 'Trebor Inventory' for the past month."
   ]
  },
  {
   "cell_type": "code",
   "execution_count": null,
   "metadata": {},
   "outputs": [],
   "source": [
    "customers = ['Trebor Inventory']\n",
    "since = (pd.Timestamp.now() - pd.DateOffset(months=1)).date()\n",
    "\n",
    "query = \"\"\"\n",
    "SELECT \"PONumber\", \"PODate\", \"CustomerCode\", \"Customer\", \"TotalTons\" as \"OrderedTons\", SUM(\"LoadTons\") AS \"ProducedTons\", SUM(\"LoadPieces\") AS \"ProducedPieces\"\n",
    "FROM \"factPOProduction\"\n",
    "WHERE \"Customer\" IN ({customers})\n",
    "AND \"ShippingDate\" >= '{since}'\n",
    "GROUP BY \"PONumber\", \"PODate\", \"CustomerCode\", \"Customer\", \"TotalTons\"\n",
    "ORDER BY \"PODate\" ASC\n",
    "\"\"\".format(customers=', '.join([f\"'{customer}'\" for customer in customers]), since=since)\n",
    "df = read_sql_query(query)\n",
    "\n",
    "display(df)\n",
    "\n",
    "df['PODate'] = pd.to_datetime(df['PODate']).dt.date\n",
    "\n",
    "df.set_index('PODate')[['OrderedTons', 'ProducedTons']].plot(kind='bar', figsize=(28, 5))\n",
    "plt.title('Ordered vs Produced Tons')\n",
    "plt.ylabel('Tons')\n",
    "plt.xticks(rotation=45, ha='right')\n",
    "plt.show()"
   ]
  },
  {
   "cell_type": "markdown",
   "metadata": {},
   "source": [
    "### Q 95: Show me the production tons by customer (monthly/annually, specific time frame)"
   ]
  },
  {
   "cell_type": "markdown",
   "metadata": {},
   "source": [
    "#### Example: Show me the production tons by customer, monthly for last 12 months"
   ]
  },
  {
   "cell_type": "code",
   "execution_count": null,
   "metadata": {},
   "outputs": [],
   "source": [
    "since = (pd.Timestamp.now() - pd.DateOffset(months=12)).date()\n",
    "\n",
    "query = \"\"\"\n",
    "SELECT \"Customer\", to_char(\"ShippingDate\", 'YYYY-MM') as \"ShippingDateYearMonth\", SUM(\"LoadTons\") AS \"ProducedTons\"\n",
    "FROM \"factPOProduction\"\n",
    "WHERE \"ShippingDate\" >= '{since}'\n",
    "GROUP BY \"Customer\", \"ShippingDateYearMonth\"\n",
    "ORDER BY \"ShippingDateYearMonth\" ASC\n",
    "\"\"\".format(since=since)\n",
    "df = read_sql_query(query)\n",
    "\n",
    "display(df)\n",
    "\n",
    "df.pivot(index='ShippingDateYearMonth', columns='Customer', values='ProducedTons').plot(kind='bar', figsize=(28, 5))\n",
    "plt.title('Produced Tons by Month')\n",
    "plt.ylabel('Tons')\n",
    "plt.xticks(rotation=45, ha='right')\n",
    "plt.show()\n"
   ]
  },
  {
   "cell_type": "markdown",
   "metadata": {},
   "source": [
    "#### Example: Show me the production tons by customer, yearly for last 6 years"
   ]
  },
  {
   "cell_type": "code",
   "execution_count": null,
   "metadata": {},
   "outputs": [],
   "source": [
    "since = (pd.Timestamp.now() - pd.DateOffset(months=12 * 6)).date()\n",
    "\n",
    "query = \"\"\"\n",
    "SELECT \"Customer\", to_char(\"ShippingDate\", 'YYYY') as \"ShippingDateYear\", SUM(\"LoadTons\") AS \"ProducedTons\"\n",
    "FROM \"factPOProduction\"\n",
    "WHERE \"ShippingDate\" >= '{since}'\n",
    "GROUP BY \"Customer\", \"ShippingDateYear\"\n",
    "ORDER BY \"ShippingDateYear\" ASC\n",
    "\"\"\".format(since=since)\n",
    "df = read_sql_query(query)\n",
    "\n",
    "display(df)\n",
    "\n",
    "df.pivot(index='ShippingDateYear', columns='Customer', values='ProducedTons').plot(kind='bar', figsize=(28, 5))\n",
    "plt.title('Produced Tons by Year')\n",
    "plt.ylabel('Tons')\n",
    "plt.xticks(rotation=45, ha='right')\n",
    "plt.show()"
   ]
  },
  {
   "cell_type": "markdown",
   "metadata": {},
   "source": [
    "### Q 97: Show me the tons shipped for a specific time frame for - all customer, by customer group, or specific customer( PO#, Shipper #, Customer name, Ship Date, Tons Shipped, Grade code, product type)"
   ]
  },
  {
   "cell_type": "markdown",
   "metadata": {},
   "source": [
    "#### Example: Show me the tons shipped for last month for all customers - group by PO#, Shipper #, Customer name, Ship Date, Grade code, product type)"
   ]
  },
  {
   "cell_type": "code",
   "execution_count": null,
   "metadata": {},
   "outputs": [],
   "source": [
    "since = (pd.Timestamp.now() - pd.DateOffset(months=1)).date()\n",
    "\n",
    "query = \"\"\"\n",
    "SELECT \"PONumber\", \"GradeCode\", \"Customer\", \"ShippingDate\", \"ShippingNumber\", SUM(\"LoadTons\") AS \"ShippedTons\"\n",
    "FROM \"factPOProduction\"\n",
    "WHERE \"ShippingDate\" >= '{since}'\n",
    "GROUP BY \"PONumber\", \"GradeCode\", \"Customer\", \"ShippingDate\", \"ShippingNumber\"\n",
    "ORDER BY \"ShippingDate\" DESC\n",
    "\"\"\".format(since=since)\n",
    "read_sql_query(query)"
   ]
  }
 ],
 "metadata": {
  "kernelspec": {
   "display_name": "Python 3 (ipykernel)",
   "language": "python",
   "name": "python3"
  },
  "language_info": {
   "codemirror_mode": {
    "name": "ipython",
    "version": 3
   },
   "file_extension": ".py",
   "mimetype": "text/x-python",
   "name": "python",
   "nbconvert_exporter": "python",
   "pygments_lexer": "ipython3",
   "version": "3.12.5"
  }
 },
 "nbformat": 4,
 "nbformat_minor": 2
}
